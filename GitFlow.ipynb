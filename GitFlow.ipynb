{
  "cells": [
    {
      "cell_type": "markdown",
      "source": [
        "# Entrega de GitFlow\n",
        "* Nombre: Camilo Soria Aranguiz\n",
        "* N-Alumno: 18207979"
      ],
      "metadata": {
        "id": "350mOl15x8g3"
      }
    },
    {
      "cell_type": "markdown",
      "metadata": {
        "id": "5LxbclS3xyWt"
      },
      "source": [
        "Comenzamos por la carga del dataset"
      ]
    },
    {
      "cell_type": "code",
      "execution_count": 4,
      "metadata": {
        "colab": {
          "base_uri": "https://localhost:8080/"
        },
        "id": "Un3vbNldxyWw",
        "outputId": "c7dd308e-0c50-4cf9-cf98-395e91a2439b"
      },
      "outputs": [
        {
          "output_type": "stream",
          "name": "stdout",
          "text": [
            "--2022-03-27 00:30:23--  https://www.dropbox.com/s/nm6ylxata8dhfss/archive.zip\n",
            "Resolving www.dropbox.com (www.dropbox.com)... 162.125.5.18, 2620:100:601d:18::a27d:512\n",
            "Connecting to www.dropbox.com (www.dropbox.com)|162.125.5.18|:443... connected.\n",
            "HTTP request sent, awaiting response... 301 Moved Permanently\n",
            "Location: /s/raw/nm6ylxata8dhfss/archive.zip [following]\n",
            "--2022-03-27 00:30:23--  https://www.dropbox.com/s/raw/nm6ylxata8dhfss/archive.zip\n",
            "Reusing existing connection to www.dropbox.com:443.\n",
            "HTTP request sent, awaiting response... 302 Found\n",
            "Location: https://uc601cc21cfb1086ac9da320747f.dl.dropboxusercontent.com/cd/0/inline/BiPB52VXjVyWqypa1LctIU9jE16erUzyeBKmYCY5imBVEytNMfmJe9QnPUKELYah5mzi48s8xORmylJTXDZ5_VurQPaOfCkilGRIEVoHT6Gr1OAUnM9ERYRSQP7dkhCGyQCVOnyJgoRjH-BUbRjHpKQJhvuClAW02MqXOx_1_3bX5w/file# [following]\n",
            "--2022-03-27 00:30:23--  https://uc601cc21cfb1086ac9da320747f.dl.dropboxusercontent.com/cd/0/inline/BiPB52VXjVyWqypa1LctIU9jE16erUzyeBKmYCY5imBVEytNMfmJe9QnPUKELYah5mzi48s8xORmylJTXDZ5_VurQPaOfCkilGRIEVoHT6Gr1OAUnM9ERYRSQP7dkhCGyQCVOnyJgoRjH-BUbRjHpKQJhvuClAW02MqXOx_1_3bX5w/file\n",
            "Resolving uc601cc21cfb1086ac9da320747f.dl.dropboxusercontent.com (uc601cc21cfb1086ac9da320747f.dl.dropboxusercontent.com)... 162.125.5.15, 2620:100:601d:15::a27d:50f\n",
            "Connecting to uc601cc21cfb1086ac9da320747f.dl.dropboxusercontent.com (uc601cc21cfb1086ac9da320747f.dl.dropboxusercontent.com)|162.125.5.15|:443... connected.\n",
            "HTTP request sent, awaiting response... 302 Found\n",
            "Location: /cd/0/inline2/BiPy30lHeY5aDlCVjps7Qgs3RHMyEo6PBbD-IYgZvxV9_57yroWTkHMpV6Xfu53rj5zyWsrrlR0xlGVNC3qwEDuW0nwllzMx5nlTXQ4ntGGTmE3GcDlDxOmogKaibeAkgkoUXQ1hGmpO6zIi47Cv0bx3OfpYp7zc0WhqRAHQp6_PBxGdVi3wcfMbda0CzucSwaxnTSkxULWU5ce0LSifozbx919xSSoND7rVkLgnm4M3P7ZjJPvyPx8tDCUCorIKPAnBMaqB3mBJY0O5-Nvt3XwY_ylPyd_m1V3OzQPXIZvwpZiu32eQtd_awAZrLBsxM1duk1mGI60Oyfo2jDoTjqCbF3MdfjmCiwmdupJwIC5muITFYwAMealpU1p1xPUFVKVPlUGXkq3g5F0JhA4QNHtg2pHy6eHNe3o_l2APPN0wRA/file [following]\n",
            "--2022-03-27 00:30:23--  https://uc601cc21cfb1086ac9da320747f.dl.dropboxusercontent.com/cd/0/inline2/BiPy30lHeY5aDlCVjps7Qgs3RHMyEo6PBbD-IYgZvxV9_57yroWTkHMpV6Xfu53rj5zyWsrrlR0xlGVNC3qwEDuW0nwllzMx5nlTXQ4ntGGTmE3GcDlDxOmogKaibeAkgkoUXQ1hGmpO6zIi47Cv0bx3OfpYp7zc0WhqRAHQp6_PBxGdVi3wcfMbda0CzucSwaxnTSkxULWU5ce0LSifozbx919xSSoND7rVkLgnm4M3P7ZjJPvyPx8tDCUCorIKPAnBMaqB3mBJY0O5-Nvt3XwY_ylPyd_m1V3OzQPXIZvwpZiu32eQtd_awAZrLBsxM1duk1mGI60Oyfo2jDoTjqCbF3MdfjmCiwmdupJwIC5muITFYwAMealpU1p1xPUFVKVPlUGXkq3g5F0JhA4QNHtg2pHy6eHNe3o_l2APPN0wRA/file\n",
            "Reusing existing connection to uc601cc21cfb1086ac9da320747f.dl.dropboxusercontent.com:443.\n",
            "HTTP request sent, awaiting response... 200 OK\n",
            "Length: 200427784 (191M) [application/zip]\n",
            "Saving to: ‘archive.zip’\n",
            "\n",
            "archive.zip         100%[===================>] 191.14M  76.0MB/s    in 2.5s    \n",
            "\n",
            "2022-03-27 00:30:27 (76.0 MB/s) - ‘archive.zip’ saved [200427784/200427784]\n",
            "\n",
            "Archive:  archive.zip\n",
            "  inflating: farmers-protest-tweets-2021-03-5.json  \n"
          ]
        }
      ],
      "source": [
        "!wget https://www.dropbox.com/s/nm6ylxata8dhfss/archive.zip\n",
        "!unzip archive.zip"
      ]
    },
    {
      "cell_type": "markdown",
      "metadata": {
        "id": "apo4208FxyWy"
      },
      "source": [
        "Imports"
      ]
    },
    {
      "cell_type": "code",
      "execution_count": 12,
      "metadata": {
        "id": "NUb7BayLxyWy"
      },
      "outputs": [],
      "source": [
        "import json\n",
        "from collections import Counter"
      ]
    },
    {
      "cell_type": "code",
      "execution_count": 6,
      "metadata": {
        "id": "AMt-p7WmxyWz"
      },
      "outputs": [],
      "source": [
        "# Lectura de datos\n",
        "lines = []\n",
        "with open(\"farmers-protest-tweets-2021-03-5.json\", \"r\") as f:\n",
        "    lines = list(map(lambda x: json.loads(x),f.readlines()))"
      ]
    },
    {
      "cell_type": "code",
      "execution_count": 7,
      "metadata": {
        "id": "4gP67H_IxyWz"
      },
      "outputs": [],
      "source": [
        "# Funcion para obtener los 10 tweets mas retweeteados\n",
        "def get_ten_most_rt(lines):\n",
        "    # la key a buscar es \"retweetCount\"\n",
        "    lines = list(map(lambda x: (x[\"user\"],x[\"retweetCount\"]),lines))\n",
        "    ten_most_rt = sorted(lines,key=lambda x: x[1],reverse=True)[:10]\n",
        "    for i,tweet in enumerate(ten_most_rt):\n",
        "        print(f\"-{i+1} Usuario {tweet[0]['username']}: {tweet[1]}\")"
      ]
    },
    {
      "cell_type": "code",
      "source": [
        "def users_with_more_tweets(lines):\n",
        "    users_by_id = dict()\n",
        "    ids = []\n",
        "    for line in lines:\n",
        "      id = line[\"user\"][\"id\"]\n",
        "      if id not in users_by_id.keys():\n",
        "        users_by_id[id] = line[\"user\"]\n",
        "      ids.append(id)\n",
        "    counts = sorted(list(Counter(ids).items()),key=lambda x: x[1], reverse=True)\n",
        "    c = 1\n",
        "    for id,count in counts[:10]:\n",
        "      print(f\"-{c} Usuario {users_by_id[id]['username']}: tweets emitidos {count}\")\n",
        "      c += 1"
      ],
      "metadata": {
        "id": "zi092C3i3wGK"
      },
      "execution_count": 20,
      "outputs": []
    },
    {
      "cell_type": "code",
      "source": [
        "def most_tweeted_days(lines):\n",
        "    # Procesamos al fecha para obtener el dia, mes y año\n",
        "    # Ejemplo: Wed Oct 10 20:19:24 +0000 2018 -> Objetivo: 'Oct102018'\n",
        "    def process_date(date):\n",
        "      return date.split(\"T\")[0]\n",
        "    dates = [process_date(tweet[\"date\"]) for tweet in lines]\n",
        "    counts = sorted(list(Counter(dates).items()),key=lambda x: x[1], reverse=True)\n",
        "    c = 1\n",
        "    for date,count in counts[:10]:\n",
        "      print(f\"-{c} Fecha {date}: tweets {count}\")\n",
        "      c+=1\n",
        "most_tweeted_days(lines)\n",
        "    "
      ],
      "metadata": {
        "colab": {
          "base_uri": "https://localhost:8080/"
        },
        "id": "2UN8urYF9CQR",
        "outputId": "585cae29-120a-491b-8561-3da6d454c955"
      },
      "execution_count": 31,
      "outputs": [
        {
          "output_type": "stream",
          "name": "stdout",
          "text": [
            "-1 Fecha 2021-02-03: tweets 83866\n",
            "-2 Fecha 2021-02-04: tweets 58607\n",
            "-3 Fecha 2021-02-05: tweets 33332\n",
            "-4 Fecha 2021-02-02: tweets 28548\n",
            "-5 Fecha 2021-02-06: tweets 22420\n",
            "-6 Fecha 2021-02-07: tweets 11325\n",
            "-7 Fecha 2021-02-09: tweets 9320\n",
            "-8 Fecha 2021-02-08: tweets 8920\n",
            "-9 Fecha 2021-02-10: tweets 7973\n",
            "-10 Fecha 2021-02-11: tweets 5698\n"
          ]
        }
      ]
    }
  ],
  "metadata": {
    "interpreter": {
      "hash": "31f2aee4e71d21fbe5cf8b01ff0e069b9275f58929596ceb00d14d90e3e16cd6"
    },
    "kernelspec": {
      "display_name": "Python 3.8.10 64-bit",
      "language": "python",
      "name": "python3"
    },
    "language_info": {
      "codemirror_mode": {
        "name": "ipython",
        "version": 3
      },
      "file_extension": ".py",
      "mimetype": "text/x-python",
      "name": "python",
      "nbconvert_exporter": "python",
      "pygments_lexer": "ipython3",
      "version": "3.8.10"
    },
    "orig_nbformat": 4,
    "colab": {
      "name": "GitFlow.ipynb",
      "provenance": []
    }
  },
  "nbformat": 4,
  "nbformat_minor": 0
}