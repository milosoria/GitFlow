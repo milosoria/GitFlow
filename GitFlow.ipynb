{
  "cells": [
    {
      "cell_type": "markdown",
      "source": [
        "# Entrega de GitFlow\n",
        "* Nombre: Camilo Soria Aranguiz\n",
        "* N-Alumno: 18207979"
      ],
      "metadata": {
        "id": "350mOl15x8g3"
      }
    },
    {
      "cell_type": "markdown",
      "metadata": {
        "id": "5LxbclS3xyWt"
      },
      "source": [
        "Comenzamos por la carga del dataset"
      ]
    },
    {
      "cell_type": "code",
      "execution_count": 4,
      "metadata": {
        "colab": {
          "base_uri": "https://localhost:8080/"
        },
        "id": "Un3vbNldxyWw",
        "outputId": "c7dd308e-0c50-4cf9-cf98-395e91a2439b"
      },
      "outputs": [
        {
          "output_type": "stream",
          "name": "stdout",
          "text": [
            "--2022-03-27 00:30:23--  https://www.dropbox.com/s/nm6ylxata8dhfss/archive.zip\n",
            "Resolving www.dropbox.com (www.dropbox.com)... 162.125.5.18, 2620:100:601d:18::a27d:512\n",
            "Connecting to www.dropbox.com (www.dropbox.com)|162.125.5.18|:443... connected.\n",
            "HTTP request sent, awaiting response... 301 Moved Permanently\n",
            "Location: /s/raw/nm6ylxata8dhfss/archive.zip [following]\n",
            "--2022-03-27 00:30:23--  https://www.dropbox.com/s/raw/nm6ylxata8dhfss/archive.zip\n",
            "Reusing existing connection to www.dropbox.com:443.\n",
            "HTTP request sent, awaiting response... 302 Found\n",
            "Location: https://uc601cc21cfb1086ac9da320747f.dl.dropboxusercontent.com/cd/0/inline/BiPB52VXjVyWqypa1LctIU9jE16erUzyeBKmYCY5imBVEytNMfmJe9QnPUKELYah5mzi48s8xORmylJTXDZ5_VurQPaOfCkilGRIEVoHT6Gr1OAUnM9ERYRSQP7dkhCGyQCVOnyJgoRjH-BUbRjHpKQJhvuClAW02MqXOx_1_3bX5w/file# [following]\n",
            "--2022-03-27 00:30:23--  https://uc601cc21cfb1086ac9da320747f.dl.dropboxusercontent.com/cd/0/inline/BiPB52VXjVyWqypa1LctIU9jE16erUzyeBKmYCY5imBVEytNMfmJe9QnPUKELYah5mzi48s8xORmylJTXDZ5_VurQPaOfCkilGRIEVoHT6Gr1OAUnM9ERYRSQP7dkhCGyQCVOnyJgoRjH-BUbRjHpKQJhvuClAW02MqXOx_1_3bX5w/file\n",
            "Resolving uc601cc21cfb1086ac9da320747f.dl.dropboxusercontent.com (uc601cc21cfb1086ac9da320747f.dl.dropboxusercontent.com)... 162.125.5.15, 2620:100:601d:15::a27d:50f\n",
            "Connecting to uc601cc21cfb1086ac9da320747f.dl.dropboxusercontent.com (uc601cc21cfb1086ac9da320747f.dl.dropboxusercontent.com)|162.125.5.15|:443... connected.\n",
            "HTTP request sent, awaiting response... 302 Found\n",
            "Location: /cd/0/inline2/BiPy30lHeY5aDlCVjps7Qgs3RHMyEo6PBbD-IYgZvxV9_57yroWTkHMpV6Xfu53rj5zyWsrrlR0xlGVNC3qwEDuW0nwllzMx5nlTXQ4ntGGTmE3GcDlDxOmogKaibeAkgkoUXQ1hGmpO6zIi47Cv0bx3OfpYp7zc0WhqRAHQp6_PBxGdVi3wcfMbda0CzucSwaxnTSkxULWU5ce0LSifozbx919xSSoND7rVkLgnm4M3P7ZjJPvyPx8tDCUCorIKPAnBMaqB3mBJY0O5-Nvt3XwY_ylPyd_m1V3OzQPXIZvwpZiu32eQtd_awAZrLBsxM1duk1mGI60Oyfo2jDoTjqCbF3MdfjmCiwmdupJwIC5muITFYwAMealpU1p1xPUFVKVPlUGXkq3g5F0JhA4QNHtg2pHy6eHNe3o_l2APPN0wRA/file [following]\n",
            "--2022-03-27 00:30:23--  https://uc601cc21cfb1086ac9da320747f.dl.dropboxusercontent.com/cd/0/inline2/BiPy30lHeY5aDlCVjps7Qgs3RHMyEo6PBbD-IYgZvxV9_57yroWTkHMpV6Xfu53rj5zyWsrrlR0xlGVNC3qwEDuW0nwllzMx5nlTXQ4ntGGTmE3GcDlDxOmogKaibeAkgkoUXQ1hGmpO6zIi47Cv0bx3OfpYp7zc0WhqRAHQp6_PBxGdVi3wcfMbda0CzucSwaxnTSkxULWU5ce0LSifozbx919xSSoND7rVkLgnm4M3P7ZjJPvyPx8tDCUCorIKPAnBMaqB3mBJY0O5-Nvt3XwY_ylPyd_m1V3OzQPXIZvwpZiu32eQtd_awAZrLBsxM1duk1mGI60Oyfo2jDoTjqCbF3MdfjmCiwmdupJwIC5muITFYwAMealpU1p1xPUFVKVPlUGXkq3g5F0JhA4QNHtg2pHy6eHNe3o_l2APPN0wRA/file\n",
            "Reusing existing connection to uc601cc21cfb1086ac9da320747f.dl.dropboxusercontent.com:443.\n",
            "HTTP request sent, awaiting response... 200 OK\n",
            "Length: 200427784 (191M) [application/zip]\n",
            "Saving to: ‘archive.zip’\n",
            "\n",
            "archive.zip         100%[===================>] 191.14M  76.0MB/s    in 2.5s    \n",
            "\n",
            "2022-03-27 00:30:27 (76.0 MB/s) - ‘archive.zip’ saved [200427784/200427784]\n",
            "\n",
            "Archive:  archive.zip\n",
            "  inflating: farmers-protest-tweets-2021-03-5.json  \n"
          ]
        }
      ],
      "source": [
        "!wget https://www.dropbox.com/s/nm6ylxata8dhfss/archive.zip\n",
        "!unzip archive.zip"
      ]
    },
    {
      "cell_type": "markdown",
      "metadata": {
        "id": "apo4208FxyWy"
      },
      "source": [
        "Imports"
      ]
    },
    {
      "cell_type": "code",
      "execution_count": 5,
      "metadata": {
        "id": "NUb7BayLxyWy"
      },
      "outputs": [],
      "source": [
        "import json"
      ]
    },
    {
      "cell_type": "code",
      "execution_count": 6,
      "metadata": {
        "id": "AMt-p7WmxyWz"
      },
      "outputs": [],
      "source": [
        "# Lectura de datos\n",
        "lines = []\n",
        "with open(\"farmers-protest-tweets-2021-03-5.json\", \"r\") as f:\n",
        "    lines = list(map(lambda x: json.loads(x),f.readlines()))"
      ]
    },
    {
      "cell_type": "code",
      "execution_count": 7,
      "metadata": {
        "id": "4gP67H_IxyWz"
      },
      "outputs": [],
      "source": [
        "# Funcion para obtener los 10 tweets mas retweeteados\n",
        "def get_ten_most_rt(lines):\n",
        "    # la key a buscar es \"retweetCount\"\n",
        "    lines = list(map(lambda x: (x[\"user\"],x[\"retweetCount\"]),lines))\n",
        "    ten_most_rt = sorted(lines,key=lambda x: x[1],reverse=True)[:10]\n",
        "    for i,tweet in enumerate(ten_most_rt):\n",
        "        print(f\"-{i} Usuario {tweet[0]['username']}: {tweet[1]}\")"
      ]
    },
    {
      "cell_type": "code",
      "execution_count": 8,
      "metadata": {
        "colab": {
          "base_uri": "https://localhost:8080/"
        },
        "id": "WN7XCN7ixyW0",
        "outputId": "f56b953e-bf91-413f-b948-03a22d0fc089"
      },
      "outputs": [
        {
          "output_type": "stream",
          "name": "stdout",
          "text": [
            "-0 Usuario rihanna: 315547\n",
            "-1 Usuario GretaThunberg: 103957\n",
            "-2 Usuario GretaThunberg: 67694\n",
            "-3 Usuario miakhalifa: 35921\n",
            "-4 Usuario miakhalifa: 26972\n",
            "-5 Usuario TeamJuJu: 23251\n",
            "-6 Usuario BobBlackman: 20132\n",
            "-7 Usuario vanessa_vash: 18744\n",
            "-8 Usuario kylekuzma: 17368\n",
            "-9 Usuario AmandaCerny: 15677\n"
          ]
        }
      ],
      "source": [
        "get_ten_most_rt(lines)"
      ]
    }
  ],
  "metadata": {
    "interpreter": {
      "hash": "31f2aee4e71d21fbe5cf8b01ff0e069b9275f58929596ceb00d14d90e3e16cd6"
    },
    "kernelspec": {
      "display_name": "Python 3.8.10 64-bit",
      "language": "python",
      "name": "python3"
    },
    "language_info": {
      "codemirror_mode": {
        "name": "ipython",
        "version": 3
      },
      "file_extension": ".py",
      "mimetype": "text/x-python",
      "name": "python",
      "nbconvert_exporter": "python",
      "pygments_lexer": "ipython3",
      "version": "3.8.10"
    },
    "orig_nbformat": 4,
    "colab": {
      "name": "GitFlow.ipynb",
      "provenance": []
    }
  },
  "nbformat": 4,
  "nbformat_minor": 0
}